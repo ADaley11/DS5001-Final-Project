{
  "nbformat": 4,
  "nbformat_minor": 0,
  "metadata": {
    "colab": {
      "name": "Translate.ipynb",
      "provenance": []
    },
    "kernelspec": {
      "name": "python3",
      "display_name": "Python 3"
    },
    "language_info": {
      "name": "python"
    },
    "accelerator": "GPU"
  },
  "cells": [
    {
      "cell_type": "code",
      "execution_count": null,
      "metadata": {
        "colab": {
          "base_uri": "https://localhost:8080/"
        },
        "id": "OfUW9ZL767PU",
        "outputId": "07ad5a8c-35ab-4819-d200-af8777c3f422"
      },
      "outputs": [
        {
          "output_type": "stream",
          "name": "stdout",
          "text": [
            "Mounted at /content/gdrive\n"
          ]
        }
      ],
      "source": [
        "from google.colab import drive\n",
        "drive.mount('/content/gdrive')"
      ]
    },
    {
      "cell_type": "code",
      "source": [
        "import pandas as pd\n",
        "import numpy as np"
      ],
      "metadata": {
        "id": "WBerjxg87lEr"
      },
      "execution_count": null,
      "outputs": []
    },
    {
      "cell_type": "code",
      "source": [
        "import warnings\n",
        "warnings.filterwarnings(\"ignore\")"
      ],
      "metadata": {
        "id": "RB_1TYVx7lGu"
      },
      "execution_count": null,
      "outputs": []
    },
    {
      "cell_type": "code",
      "source": [
        "!pip3 install googletrans==3.1.0a0"
      ],
      "metadata": {
        "colab": {
          "base_uri": "https://localhost:8080/"
        },
        "id": "BGr1o7WCD1kF",
        "outputId": "b6b5ee14-c803-4e63-e818-49d982b8d645"
      },
      "execution_count": null,
      "outputs": [
        {
          "output_type": "stream",
          "name": "stdout",
          "text": [
            "Collecting googletrans==3.1.0a0\n",
            "  Downloading googletrans-3.1.0a0.tar.gz (19 kB)\n",
            "Collecting httpx==0.13.3\n",
            "  Downloading httpx-0.13.3-py3-none-any.whl (55 kB)\n",
            "\u001b[K     |████████████████████████████████| 55 kB 2.3 MB/s \n",
            "\u001b[?25hCollecting rfc3986<2,>=1.3\n",
            "  Downloading rfc3986-1.5.0-py2.py3-none-any.whl (31 kB)\n",
            "Requirement already satisfied: chardet==3.* in /usr/local/lib/python3.7/dist-packages (from httpx==0.13.3->googletrans==3.1.0a0) (3.0.4)\n",
            "Collecting hstspreload\n",
            "  Downloading hstspreload-2021.12.1-py3-none-any.whl (1.3 MB)\n",
            "\u001b[K     |████████████████████████████████| 1.3 MB 10.7 MB/s \n",
            "\u001b[?25hCollecting sniffio\n",
            "  Downloading sniffio-1.2.0-py3-none-any.whl (10 kB)\n",
            "Requirement already satisfied: certifi in /usr/local/lib/python3.7/dist-packages (from httpx==0.13.3->googletrans==3.1.0a0) (2021.10.8)\n",
            "Requirement already satisfied: idna==2.* in /usr/local/lib/python3.7/dist-packages (from httpx==0.13.3->googletrans==3.1.0a0) (2.10)\n",
            "Collecting httpcore==0.9.*\n",
            "  Downloading httpcore-0.9.1-py3-none-any.whl (42 kB)\n",
            "\u001b[K     |████████████████████████████████| 42 kB 1.3 MB/s \n",
            "\u001b[?25hCollecting h11<0.10,>=0.8\n",
            "  Downloading h11-0.9.0-py2.py3-none-any.whl (53 kB)\n",
            "\u001b[K     |████████████████████████████████| 53 kB 2.1 MB/s \n",
            "\u001b[?25hCollecting h2==3.*\n",
            "  Downloading h2-3.2.0-py2.py3-none-any.whl (65 kB)\n",
            "\u001b[K     |████████████████████████████████| 65 kB 3.5 MB/s \n",
            "\u001b[?25hCollecting hyperframe<6,>=5.2.0\n",
            "  Downloading hyperframe-5.2.0-py2.py3-none-any.whl (12 kB)\n",
            "Collecting hpack<4,>=3.0\n",
            "  Downloading hpack-3.0.0-py2.py3-none-any.whl (38 kB)\n",
            "Building wheels for collected packages: googletrans\n",
            "  Building wheel for googletrans (setup.py) ... \u001b[?25l\u001b[?25hdone\n",
            "  Created wheel for googletrans: filename=googletrans-3.1.0a0-py3-none-any.whl size=16367 sha256=d59b09af447a385cef38e01d41d0843804fe31be35c635ca4ab3951e592ca93e\n",
            "  Stored in directory: /root/.cache/pip/wheels/0c/be/fe/93a6a40ffe386e16089e44dad9018ebab9dc4cb9eb7eab65ae\n",
            "Successfully built googletrans\n",
            "Installing collected packages: hyperframe, hpack, sniffio, h2, h11, rfc3986, httpcore, hstspreload, httpx, googletrans\n",
            "Successfully installed googletrans-3.1.0a0 h11-0.9.0 h2-3.2.0 hpack-3.0.0 hstspreload-2021.12.1 httpcore-0.9.1 httpx-0.13.3 hyperframe-5.2.0 rfc3986-1.5.0 sniffio-1.2.0\n"
          ]
        }
      ]
    },
    {
      "cell_type": "code",
      "source": [
        "from googletrans import Translator"
      ],
      "metadata": {
        "id": "BEZmvsmq7lI-"
      },
      "execution_count": null,
      "outputs": []
    },
    {
      "cell_type": "code",
      "source": [
        "trans = Translator()"
      ],
      "metadata": {
        "id": "AfA7uroR8uWk"
      },
      "execution_count": null,
      "outputs": []
    },
    {
      "cell_type": "code",
      "source": [
        "%cd /content/gdrive/MyDrive\n",
        "VOC = pd.read_csv('Span_VOC.csv')"
      ],
      "metadata": {
        "colab": {
          "base_uri": "https://localhost:8080/"
        },
        "id": "BvYe83RC7lNZ",
        "outputId": "7d4ef54f-bce5-45da-9567-cfbea01fd6db"
      },
      "execution_count": null,
      "outputs": [
        {
          "output_type": "stream",
          "name": "stdout",
          "text": [
            "/content/gdrive/MyDrive\n"
          ]
        }
      ]
    },
    {
      "cell_type": "code",
      "source": [
        "def tranWrap(row,col):\n",
        "    return tran(row[col])\n",
        "  \n",
        "def tran(x):\n",
        "    word = trans.translate(x, src=\"es\", dest=\"en\")\n",
        "    return word.text"
      ],
      "metadata": {
        "id": "vfCejNov9y6X"
      },
      "execution_count": null,
      "outputs": []
    },
    {
      "cell_type": "code",
      "source": [
        "VOC['eng_str'] = VOC.apply(tranWrap, axis=1, args=['term_str'])"
      ],
      "metadata": {
        "id": "eR92-SKX-Ghs"
      },
      "execution_count": null,
      "outputs": []
    },
    {
      "cell_type": "code",
      "source": [
        "x = trans.translate(\"pan\", src=\"es\", dest=\"en\")\n",
        "x.text"
      ],
      "metadata": {
        "colab": {
          "base_uri": "https://localhost:8080/",
          "height": 35
        },
        "id": "u4w0WAE37lPT",
        "outputId": "a102e0f5-7d22-4668-9c37-baf9b8817a52"
      },
      "execution_count": null,
      "outputs": [
        {
          "output_type": "execute_result",
          "data": {
            "text/plain": [
              "'bread'"
            ],
            "application/vnd.google.colaboratory.intrinsic+json": {
              "type": "string"
            }
          },
          "metadata": {},
          "execution_count": 11
        }
      ]
    },
    {
      "cell_type": "code",
      "source": [
        "VOC"
      ],
      "metadata": {
        "colab": {
          "base_uri": "https://localhost:8080/",
          "height": 487
        },
        "id": "Aim8npkx7lSu",
        "outputId": "073a95f7-99fb-4e3b-8275-06724e0ffa5d"
      },
      "execution_count": null,
      "outputs": [
        {
          "output_type": "execute_result",
          "data": {
            "text/plain": [
              "            term_str     n  n_chars         p          i  mean_tfidf  \\\n",
              "0                  á  4544        1  0.048858   4.355258    0.000000   \n",
              "1                mas   886        3  0.009526   6.713842    0.000000   \n",
              "2                 si   802        2  0.008623   6.857547    0.000000   \n",
              "3               dijo   692        4  0.007441   7.070377    0.000000   \n",
              "4              habia   626        5  0.006731   7.214986    0.000000   \n",
              "...              ...   ...      ...       ...        ...         ...   \n",
              "22687    desnudapasó     1       11  0.000011  16.505005    0.009534   \n",
              "22688  doscompañeros     1       13  0.000011  16.505005    0.011203   \n",
              "22689     cascabeles     1       10  0.000011  16.505005    0.011203   \n",
              "22690          vivid     1        5  0.000011  16.505005    0.010897   \n",
              "22691       québuena     1        8  0.000011  16.505005    0.006777   \n",
              "\n",
              "          dfidf    pos       eng_str  \n",
              "0      0.000000  CCONJ             a  \n",
              "1      0.000000  PROPN          plus  \n",
              "2      0.000000  SCONJ           Yes  \n",
              "3      0.000000   VERB          said  \n",
              "4      0.000000   VERB    there were  \n",
              "...         ...    ...           ...  \n",
              "22687  3.584963   VERB    nudepassed  \n",
              "22688  3.584963   NOUN   twocomrades  \n",
              "22689  3.584963   NOUN  jingle bells  \n",
              "22690  3.584963  PUNCT         vivid  \n",
              "22691  3.584963    ADJ   that's good  \n",
              "\n",
              "[22692 rows x 9 columns]"
            ],
            "text/html": [
              "\n",
              "  <div id=\"df-aac6f0a3-5cdc-4261-9523-3dd024a7eab5\">\n",
              "    <div class=\"colab-df-container\">\n",
              "      <div>\n",
              "<style scoped>\n",
              "    .dataframe tbody tr th:only-of-type {\n",
              "        vertical-align: middle;\n",
              "    }\n",
              "\n",
              "    .dataframe tbody tr th {\n",
              "        vertical-align: top;\n",
              "    }\n",
              "\n",
              "    .dataframe thead th {\n",
              "        text-align: right;\n",
              "    }\n",
              "</style>\n",
              "<table border=\"1\" class=\"dataframe\">\n",
              "  <thead>\n",
              "    <tr style=\"text-align: right;\">\n",
              "      <th></th>\n",
              "      <th>term_str</th>\n",
              "      <th>n</th>\n",
              "      <th>n_chars</th>\n",
              "      <th>p</th>\n",
              "      <th>i</th>\n",
              "      <th>mean_tfidf</th>\n",
              "      <th>dfidf</th>\n",
              "      <th>pos</th>\n",
              "      <th>eng_str</th>\n",
              "    </tr>\n",
              "  </thead>\n",
              "  <tbody>\n",
              "    <tr>\n",
              "      <th>0</th>\n",
              "      <td>á</td>\n",
              "      <td>4544</td>\n",
              "      <td>1</td>\n",
              "      <td>0.048858</td>\n",
              "      <td>4.355258</td>\n",
              "      <td>0.000000</td>\n",
              "      <td>0.000000</td>\n",
              "      <td>CCONJ</td>\n",
              "      <td>a</td>\n",
              "    </tr>\n",
              "    <tr>\n",
              "      <th>1</th>\n",
              "      <td>mas</td>\n",
              "      <td>886</td>\n",
              "      <td>3</td>\n",
              "      <td>0.009526</td>\n",
              "      <td>6.713842</td>\n",
              "      <td>0.000000</td>\n",
              "      <td>0.000000</td>\n",
              "      <td>PROPN</td>\n",
              "      <td>plus</td>\n",
              "    </tr>\n",
              "    <tr>\n",
              "      <th>2</th>\n",
              "      <td>si</td>\n",
              "      <td>802</td>\n",
              "      <td>2</td>\n",
              "      <td>0.008623</td>\n",
              "      <td>6.857547</td>\n",
              "      <td>0.000000</td>\n",
              "      <td>0.000000</td>\n",
              "      <td>SCONJ</td>\n",
              "      <td>Yes</td>\n",
              "    </tr>\n",
              "    <tr>\n",
              "      <th>3</th>\n",
              "      <td>dijo</td>\n",
              "      <td>692</td>\n",
              "      <td>4</td>\n",
              "      <td>0.007441</td>\n",
              "      <td>7.070377</td>\n",
              "      <td>0.000000</td>\n",
              "      <td>0.000000</td>\n",
              "      <td>VERB</td>\n",
              "      <td>said</td>\n",
              "    </tr>\n",
              "    <tr>\n",
              "      <th>4</th>\n",
              "      <td>habia</td>\n",
              "      <td>626</td>\n",
              "      <td>5</td>\n",
              "      <td>0.006731</td>\n",
              "      <td>7.214986</td>\n",
              "      <td>0.000000</td>\n",
              "      <td>0.000000</td>\n",
              "      <td>VERB</td>\n",
              "      <td>there were</td>\n",
              "    </tr>\n",
              "    <tr>\n",
              "      <th>...</th>\n",
              "      <td>...</td>\n",
              "      <td>...</td>\n",
              "      <td>...</td>\n",
              "      <td>...</td>\n",
              "      <td>...</td>\n",
              "      <td>...</td>\n",
              "      <td>...</td>\n",
              "      <td>...</td>\n",
              "      <td>...</td>\n",
              "    </tr>\n",
              "    <tr>\n",
              "      <th>22687</th>\n",
              "      <td>desnudapasó</td>\n",
              "      <td>1</td>\n",
              "      <td>11</td>\n",
              "      <td>0.000011</td>\n",
              "      <td>16.505005</td>\n",
              "      <td>0.009534</td>\n",
              "      <td>3.584963</td>\n",
              "      <td>VERB</td>\n",
              "      <td>nudepassed</td>\n",
              "    </tr>\n",
              "    <tr>\n",
              "      <th>22688</th>\n",
              "      <td>doscompañeros</td>\n",
              "      <td>1</td>\n",
              "      <td>13</td>\n",
              "      <td>0.000011</td>\n",
              "      <td>16.505005</td>\n",
              "      <td>0.011203</td>\n",
              "      <td>3.584963</td>\n",
              "      <td>NOUN</td>\n",
              "      <td>twocomrades</td>\n",
              "    </tr>\n",
              "    <tr>\n",
              "      <th>22689</th>\n",
              "      <td>cascabeles</td>\n",
              "      <td>1</td>\n",
              "      <td>10</td>\n",
              "      <td>0.000011</td>\n",
              "      <td>16.505005</td>\n",
              "      <td>0.011203</td>\n",
              "      <td>3.584963</td>\n",
              "      <td>NOUN</td>\n",
              "      <td>jingle bells</td>\n",
              "    </tr>\n",
              "    <tr>\n",
              "      <th>22690</th>\n",
              "      <td>vivid</td>\n",
              "      <td>1</td>\n",
              "      <td>5</td>\n",
              "      <td>0.000011</td>\n",
              "      <td>16.505005</td>\n",
              "      <td>0.010897</td>\n",
              "      <td>3.584963</td>\n",
              "      <td>PUNCT</td>\n",
              "      <td>vivid</td>\n",
              "    </tr>\n",
              "    <tr>\n",
              "      <th>22691</th>\n",
              "      <td>québuena</td>\n",
              "      <td>1</td>\n",
              "      <td>8</td>\n",
              "      <td>0.000011</td>\n",
              "      <td>16.505005</td>\n",
              "      <td>0.006777</td>\n",
              "      <td>3.584963</td>\n",
              "      <td>ADJ</td>\n",
              "      <td>that's good</td>\n",
              "    </tr>\n",
              "  </tbody>\n",
              "</table>\n",
              "<p>22692 rows × 9 columns</p>\n",
              "</div>\n",
              "      <button class=\"colab-df-convert\" onclick=\"convertToInteractive('df-aac6f0a3-5cdc-4261-9523-3dd024a7eab5')\"\n",
              "              title=\"Convert this dataframe to an interactive table.\"\n",
              "              style=\"display:none;\">\n",
              "        \n",
              "  <svg xmlns=\"http://www.w3.org/2000/svg\" height=\"24px\"viewBox=\"0 0 24 24\"\n",
              "       width=\"24px\">\n",
              "    <path d=\"M0 0h24v24H0V0z\" fill=\"none\"/>\n",
              "    <path d=\"M18.56 5.44l.94 2.06.94-2.06 2.06-.94-2.06-.94-.94-2.06-.94 2.06-2.06.94zm-11 1L8.5 8.5l.94-2.06 2.06-.94-2.06-.94L8.5 2.5l-.94 2.06-2.06.94zm10 10l.94 2.06.94-2.06 2.06-.94-2.06-.94-.94-2.06-.94 2.06-2.06.94z\"/><path d=\"M17.41 7.96l-1.37-1.37c-.4-.4-.92-.59-1.43-.59-.52 0-1.04.2-1.43.59L10.3 9.45l-7.72 7.72c-.78.78-.78 2.05 0 2.83L4 21.41c.39.39.9.59 1.41.59.51 0 1.02-.2 1.41-.59l7.78-7.78 2.81-2.81c.8-.78.8-2.07 0-2.86zM5.41 20L4 18.59l7.72-7.72 1.47 1.35L5.41 20z\"/>\n",
              "  </svg>\n",
              "      </button>\n",
              "      \n",
              "  <style>\n",
              "    .colab-df-container {\n",
              "      display:flex;\n",
              "      flex-wrap:wrap;\n",
              "      gap: 12px;\n",
              "    }\n",
              "\n",
              "    .colab-df-convert {\n",
              "      background-color: #E8F0FE;\n",
              "      border: none;\n",
              "      border-radius: 50%;\n",
              "      cursor: pointer;\n",
              "      display: none;\n",
              "      fill: #1967D2;\n",
              "      height: 32px;\n",
              "      padding: 0 0 0 0;\n",
              "      width: 32px;\n",
              "    }\n",
              "\n",
              "    .colab-df-convert:hover {\n",
              "      background-color: #E2EBFA;\n",
              "      box-shadow: 0px 1px 2px rgba(60, 64, 67, 0.3), 0px 1px 3px 1px rgba(60, 64, 67, 0.15);\n",
              "      fill: #174EA6;\n",
              "    }\n",
              "\n",
              "    [theme=dark] .colab-df-convert {\n",
              "      background-color: #3B4455;\n",
              "      fill: #D2E3FC;\n",
              "    }\n",
              "\n",
              "    [theme=dark] .colab-df-convert:hover {\n",
              "      background-color: #434B5C;\n",
              "      box-shadow: 0px 1px 3px 1px rgba(0, 0, 0, 0.15);\n",
              "      filter: drop-shadow(0px 1px 2px rgba(0, 0, 0, 0.3));\n",
              "      fill: #FFFFFF;\n",
              "    }\n",
              "  </style>\n",
              "\n",
              "      <script>\n",
              "        const buttonEl =\n",
              "          document.querySelector('#df-aac6f0a3-5cdc-4261-9523-3dd024a7eab5 button.colab-df-convert');\n",
              "        buttonEl.style.display =\n",
              "          google.colab.kernel.accessAllowed ? 'block' : 'none';\n",
              "\n",
              "        async function convertToInteractive(key) {\n",
              "          const element = document.querySelector('#df-aac6f0a3-5cdc-4261-9523-3dd024a7eab5');\n",
              "          const dataTable =\n",
              "            await google.colab.kernel.invokeFunction('convertToInteractive',\n",
              "                                                     [key], {});\n",
              "          if (!dataTable) return;\n",
              "\n",
              "          const docLinkHtml = 'Like what you see? Visit the ' +\n",
              "            '<a target=\"_blank\" href=https://colab.research.google.com/notebooks/data_table.ipynb>data table notebook</a>'\n",
              "            + ' to learn more about interactive tables.';\n",
              "          element.innerHTML = '';\n",
              "          dataTable['output_type'] = 'display_data';\n",
              "          await google.colab.output.renderOutput(dataTable, element);\n",
              "          const docLink = document.createElement('div');\n",
              "          docLink.innerHTML = docLinkHtml;\n",
              "          element.appendChild(docLink);\n",
              "        }\n",
              "      </script>\n",
              "    </div>\n",
              "  </div>\n",
              "  "
            ]
          },
          "metadata": {},
          "execution_count": 12
        }
      ]
    },
    {
      "cell_type": "code",
      "source": [
        "VOC.to_csv('VOC_Span.csv')"
      ],
      "metadata": {
        "id": "KErLO9MdB314"
      },
      "execution_count": null,
      "outputs": []
    },
    {
      "cell_type": "code",
      "source": [
        ""
      ],
      "metadata": {
        "id": "WVIJiXndMfyf"
      },
      "execution_count": null,
      "outputs": []
    }
  ]
}