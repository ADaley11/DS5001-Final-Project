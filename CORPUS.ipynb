{
 "cells": [
  {
   "cell_type": "markdown",
   "id": "c786c1cd-7455-46f0-b08c-242249262b90",
   "metadata": {},
   "source": [
    "##### Ana Daley (amd2yc@virginia.edu)\n",
    "##### DS 5001 \n",
    "##### 06 May 22"
   ]
  },
  {
   "cell_type": "code",
   "execution_count": 1,
   "id": "533c95d7-b19c-4603-9d87-ff8fb38da203",
   "metadata": {},
   "outputs": [],
   "source": [
    "import pandas as pd\n",
    "import numpy as np"
   ]
  },
  {
   "cell_type": "code",
   "execution_count": 2,
   "id": "6ff88e02-0b26-4e3a-81b3-0bde225a4bc5",
   "metadata": {},
   "outputs": [],
   "source": [
    "import nltk"
   ]
  },
  {
   "cell_type": "code",
   "execution_count": 4,
   "id": "19e91719-8a7a-44aa-8a8d-412f774e0cc1",
   "metadata": {},
   "outputs": [],
   "source": [
    "stop_en = nltk.corpus.stopwords.words('english')\n",
    "stop_es = nltk.corpus.stopwords.words('spanish')"
   ]
  },
  {
   "cell_type": "code",
   "execution_count": 3,
   "id": "e5e2ab70-e691-40f0-a510-e7cda2854b71",
   "metadata": {},
   "outputs": [],
   "source": [
    "import spacy\n",
    "nlpE = spacy.load('en_core_web_sm')\n",
    "nlpS = spacy.load('es_core_news_sm')"
   ]
  },
  {
   "cell_type": "code",
   "execution_count": 4,
   "id": "dff3774d-c138-4a8f-a53e-1ac51f67389f",
   "metadata": {},
   "outputs": [],
   "source": [
    "import warnings\n",
    "warnings.filterwarnings('ignore')"
   ]
  },
  {
   "cell_type": "code",
   "execution_count": 5,
   "id": "28ec16c4-1fa1-4f2f-8128-ce9613cbfa2b",
   "metadata": {},
   "outputs": [],
   "source": [
    "OHCO = ['title', 'language', 'volume', 'chap_num', 'para_num', 'sent_num', 'token_num']"
   ]
  },
  {
   "cell_type": "code",
   "execution_count": 6,
   "id": "27f455a4-8c35-480d-9bc5-31b346f15f76",
   "metadata": {},
   "outputs": [],
   "source": [
    "DQ_Eng = pd.DataFrame(open('DQ-Eng.txt', encoding='utf-8').readlines(), columns=['line_str'])\n",
    "DQ_Span = pd.DataFrame(open('DQ-Span.txt', encoding='utf-8').readlines(), columns=['line_str'])\n",
    "EN_Eng = pd.DataFrame(open('EN-Eng.txt', encoding='utf-8').readlines(), columns=['line_str'])\n",
    "EN_Span = pd.DataFrame(open('EN-Span.txt', encoding='utf-8').readlines(), columns=['line_str'])"
   ]
  },
  {
   "cell_type": "code",
   "execution_count": 74,
   "id": "bdeb35f3-fa98-4eb3-b28f-31eb53f90fa8",
   "metadata": {},
   "outputs": [],
   "source": [
    "ENE_Titles = r'^(THE LADY CORNELIA.|RINCONETE AND CORTADILLO:|THE LICENTIATE VIDRIERA; OR, DOCTOR GLASS-CASE.|THE DECEITFUL MARRIAGE|DIALOGUE BETWEEN SCIPIO AND BERGANZA,|THE LITTLE GIPSY GIRL.|THE GENEROUS LOVER.|THE SPANISH-ENGLISH LADY.|THE FORCE OF BLOOD.|THE JEALOUS ESTRAMADURAN.|THE ILLUSTRIOUS SCULLERY-MAID.|THE TWO DAMSELS.)$'\n",
    "ENS_Titles = r'^(LA JITANILLA.|EL AMANTE LIBERAL.|RINCONETE Y CORTADILLO.|LA ESPAÑOLA INGLESA.|EL LICENCIADO VIDRIERA.|LA FUERZA DE LA SANGRE.|EL CELOSO ESTREMEÑO.|LA ILUSTRE FREGONA.|LAS DOS DONCELLAS.|LA SEÑORA CORNELIA.|EL CASAMIENTO ENGAÑOSO.|COLOQUIO QUE PASO ENTRE CIPION Y BERGANZA,|LA TIA FINGIDA.)$'"
   ]
  },
  {
   "cell_type": "code",
   "execution_count": 8,
   "id": "9d01573a-7611-48dd-86e2-3408ec70b84c",
   "metadata": {},
   "outputs": [],
   "source": [
    "DQE_ChapPat = r'^\\s*(CHAPTER)\\s+(I|V|X|L|C)+[.]'\n",
    "DQE_ParaPat = r'\\n\\n+'\n",
    "DQE_SentPat = r'[.?!;:]+'\n",
    "DQE_TokPat = r'[\\s\",-]+'"
   ]
  },
  {
   "cell_type": "code",
   "execution_count": 9,
   "id": "131e691c-61ce-4bb2-9025-983c1fa5ca7f",
   "metadata": {},
   "outputs": [],
   "source": [
    "DQS_ChapPat = r'^\\s*(Capítulo)\\s+(I|V|X|L|C)+[.] |Capítulo Primero. |Capítulo primero.'\n",
    "DQS_ParaPat = r'\\n\\n+'\n",
    "DQS_SentPat = r'[.?!;:]+'\n",
    "DQS_TokPat = r'[\\s\",-]+'"
   ]
  },
  {
   "cell_type": "code",
   "execution_count": 10,
   "id": "24166e8b-b22b-43f1-bdba-9c0463c865f6",
   "metadata": {},
   "outputs": [],
   "source": [
    "ENE_ParaPat = r'\\n\\n+'\n",
    "ENE_SentPat = r'[.?!;:]+'\n",
    "ENE_TokPat = r'[\\s\",-]+'"
   ]
  },
  {
   "cell_type": "code",
   "execution_count": 11,
   "id": "b38de861-a1bd-49fd-90fe-6d90070054e8",
   "metadata": {},
   "outputs": [],
   "source": [
    "ENS_ParaPat = r'\\n\\n+'\n",
    "ENS_SentPat = r'[.?!;:]+'\n",
    "ENS_TokPat = r'[\\s\",-]+'"
   ]
  },
  {
   "cell_type": "markdown",
   "id": "bfe0e047-f120-4665-8155-c245154c5925",
   "metadata": {},
   "source": [
    "### Don Quijote"
   ]
  },
  {
   "cell_type": "markdown",
   "id": "997baae8-acbf-4c30-9bc4-d4bee24d38bd",
   "metadata": {},
   "source": [
    "#### English"
   ]
  },
  {
   "cell_type": "code",
   "execution_count": 12,
   "id": "18fee735-4d1f-4581-82b2-39224e2bff16",
   "metadata": {},
   "outputs": [],
   "source": [
    "DQE_LINES = DQ_Eng\n",
    "DQE_LINES.index.name = 'line_num'\n",
    "DQE_LINES.line_str = DQE_LINES.line_str.str.replace(r'\\n+', ' ',regex=True).str.strip()\n",
    "DQE_LINES['line_str'] = DQE_LINES['line_str'].str.replace(r'(\\w*)(\\d*).jpg\\s+[(]\\d+\\w*[)]',' ', regex=True).str.strip()\n",
    "DQE_LINES['line_str'] = DQE_LINES['line_str'].str.replace('Full Size',' ').str.strip()"
   ]
  },
  {
   "cell_type": "code",
   "execution_count": 13,
   "id": "5126aa53-abd3-4fe9-aaf8-4438d996e444",
   "metadata": {},
   "outputs": [],
   "source": [
    "DQE_Begin = DQE_LINES.line_str.str.match(r'WHICH TREATS OF THE CHARACTER AND PURSUITS OF THE FAMOUS GENTLEMAN')\n",
    "DQE_End = DQE_LINES.line_str.str.match(r'\\*\\*\\*\\s*END OF THE PROJECT GUTENBERG EBOOK DON QUIXOTE')"
   ]
  },
  {
   "cell_type": "code",
   "execution_count": 14,
   "id": "bfea45ce-e7f2-42cb-ab7e-6e5db4a144d9",
   "metadata": {},
   "outputs": [],
   "source": [
    "DQE_LINES = DQE_LINES.loc[DQE_LINES.loc[DQE_Begin].index[0]-1:DQE_LINES.loc[DQE_End].index[0]-11]"
   ]
  },
  {
   "cell_type": "code",
   "execution_count": 15,
   "id": "a12bdad5-9c91-4e1e-85da-5b1e2b50ba0c",
   "metadata": {},
   "outputs": [],
   "source": [
    "DQE_LINES['title'] = 'DON QUIXOTE'\n",
    "DQE_LINES['language'] = 'English'"
   ]
  },
  {
   "cell_type": "code",
   "execution_count": 16,
   "id": "3dce0cc8-b4ff-43ca-b6fa-a9b0af747260",
   "metadata": {},
   "outputs": [],
   "source": [
    "DQE_Vols = DQE_LINES.line_str.str.match(r'CHAPTER I.$')\n",
    "DQE_LINES.loc[DQE_Vols, 'volume'] = [i+1 for i in range(DQE_LINES.loc[DQE_Vols].shape[0])]\n",
    "DQE_LINES.volume = DQE_LINES.volume.ffill()"
   ]
  },
  {
   "cell_type": "code",
   "execution_count": 17,
   "id": "a7f8f615-dfad-4a53-96fc-bde75d884369",
   "metadata": {},
   "outputs": [],
   "source": [
    "DQE_Chaps = DQE_LINES.line_str.str.match(DQE_ChapPat)\n",
    "DQE_LINES.loc[DQE_Chaps, 'chap_num'] = [i+1 for i in range(DQE_LINES.loc[DQE_Chaps].shape[0])]\n",
    "DQE_LINES.chap_num = DQE_LINES.chap_num.ffill()"
   ]
  },
  {
   "cell_type": "code",
   "execution_count": 18,
   "id": "25ff6b7e-6163-455f-b245-2bdff6a7ac72",
   "metadata": {},
   "outputs": [],
   "source": [
    "DQE_LINES = DQE_LINES.dropna(subset=['chap_num'])\n",
    "DQE_LINES = DQE_LINES.loc[~DQE_Chaps]\n",
    "DQE_LINES.chap_num = DQE_LINES.chap_num.astype('int')"
   ]
  },
  {
   "cell_type": "code",
   "execution_count": 19,
   "id": "7e9b6274-873c-43b0-abf4-a92f2111af66",
   "metadata": {},
   "outputs": [],
   "source": [
    "DQE_CHAPS = DQE_LINES.groupby(OHCO[:4]).line_str.apply(lambda x: '\\n'.join(x)).to_frame('chap_str')\n",
    "DQE_CHAPS['chap_str'] = DQE_CHAPS.chap_str.str.strip()"
   ]
  },
  {
   "cell_type": "code",
   "execution_count": 20,
   "id": "e82e1a2e-5857-4721-ae75-68b5777b7457",
   "metadata": {},
   "outputs": [],
   "source": [
    "DQE_PARAS = DQE_CHAPS['chap_str'].str.split(DQE_ParaPat, expand=True).stack().to_frame('para_str').sort_index()\n",
    "DQE_PARAS.index.names = OHCO[:5]\n",
    "DQE_PARAS['para_str'] = DQE_PARAS['para_str'].str.replace(r'\\n', '', regex=True)\n",
    "DQE_PARAS['para_str'] = DQE_PARAS['para_str'].str.strip()\n",
    "DQE_PARAS = DQE_PARAS[~DQE_PARAS['para_str'].str.match(r'^\\s*$')]"
   ]
  },
  {
   "cell_type": "code",
   "execution_count": 21,
   "id": "51acd0c6-e261-4350-9085-623657d67210",
   "metadata": {},
   "outputs": [],
   "source": [
    "DQE_SENTS = DQE_PARAS['para_str'].str.split(DQE_SentPat, expand=True).stack().to_frame('sent_str')\n",
    "DQE_SENTS.index.names = OHCO[:6]\n",
    "DQE_SENTS = DQE_SENTS[~DQE_SENTS['sent_str'].str.match(r'^\\s*$')]\n",
    "DQE_SENTS.sent_str = DQE_SENTS.sent_str.str.strip()"
   ]
  },
  {
   "cell_type": "code",
   "execution_count": 22,
   "id": "9e1c2be5-7dff-4d7e-8ba6-879c102be3d0",
   "metadata": {},
   "outputs": [],
   "source": [
    "#DQE_TOK = DQE_SENTS['sent_str'].str.split(DQE_TokPat, expand=True).stack().to_frame('token_str')\n",
    "#DQE_TOK.index.names = OHCO[:7]\n",
    "#DQE_TOK['term_str'] = DQE_TOK.token_str.replace(r'[\\W_]+','', regex=True).str.lower()"
   ]
  },
  {
   "cell_type": "code",
   "execution_count": 23,
   "id": "fe81f41b-9547-4790-ab2d-bfe66cf0d39e",
   "metadata": {},
   "outputs": [],
   "source": [
    "DQE_TOK = DQE_SENTS.sent_str.apply(lambda x: pd.Series(nlpE(x))).stack().to_frame('token_str')\n",
    "DQE_TOK.index.names = OHCO[:7]\n",
    "DQE_POS = DQE_TOK.token_str.apply(lambda x: pd.Series(x.tag_)).stack().to_frame('pos')"
   ]
  },
  {
   "cell_type": "code",
   "execution_count": 24,
   "id": "074266ef-b892-4167-b816-3314ef96c34e",
   "metadata": {},
   "outputs": [],
   "source": [
    "DQE_TOK = DQE_TOK.reset_index()\n",
    "DQE_POS = DQE_POS.reset_index()\n",
    "DQE_POS = DQE_POS.drop('level_7', axis=1)"
   ]
  },
  {
   "cell_type": "code",
   "execution_count": 25,
   "id": "02d7990c-6ea0-4df7-8775-e582197a3e01",
   "metadata": {},
   "outputs": [
    {
     "data": {
      "text/html": [
       "<div>\n",
       "<style scoped>\n",
       "    .dataframe tbody tr th:only-of-type {\n",
       "        vertical-align: middle;\n",
       "    }\n",
       "\n",
       "    .dataframe tbody tr th {\n",
       "        vertical-align: top;\n",
       "    }\n",
       "\n",
       "    .dataframe thead th {\n",
       "        text-align: right;\n",
       "    }\n",
       "</style>\n",
       "<table border=\"1\" class=\"dataframe\">\n",
       "  <thead>\n",
       "    <tr style=\"text-align: right;\">\n",
       "      <th></th>\n",
       "      <th></th>\n",
       "      <th></th>\n",
       "      <th></th>\n",
       "      <th></th>\n",
       "      <th></th>\n",
       "      <th></th>\n",
       "      <th>token_str</th>\n",
       "      <th>term_str</th>\n",
       "      <th>pos</th>\n",
       "    </tr>\n",
       "    <tr>\n",
       "      <th>title</th>\n",
       "      <th>language</th>\n",
       "      <th>volume</th>\n",
       "      <th>chap_num</th>\n",
       "      <th>para_num</th>\n",
       "      <th>sent_num</th>\n",
       "      <th>token_num</th>\n",
       "      <th></th>\n",
       "      <th></th>\n",
       "      <th></th>\n",
       "    </tr>\n",
       "  </thead>\n",
       "  <tbody>\n",
       "    <tr>\n",
       "      <th rowspan=\"11\" valign=\"top\">DON QUIXOTE</th>\n",
       "      <th rowspan=\"11\" valign=\"top\">English</th>\n",
       "      <th rowspan=\"5\" valign=\"top\">1.0</th>\n",
       "      <th rowspan=\"5\" valign=\"top\">1</th>\n",
       "      <th rowspan=\"5\" valign=\"top\">0</th>\n",
       "      <th rowspan=\"5\" valign=\"top\">0</th>\n",
       "      <th>0</th>\n",
       "      <td>WHICH</td>\n",
       "      <td>which</td>\n",
       "      <td>WDT</td>\n",
       "    </tr>\n",
       "    <tr>\n",
       "      <th>1</th>\n",
       "      <td>TREATS</td>\n",
       "      <td>treats</td>\n",
       "      <td>VBD</td>\n",
       "    </tr>\n",
       "    <tr>\n",
       "      <th>2</th>\n",
       "      <td>OF</td>\n",
       "      <td>of</td>\n",
       "      <td>IN</td>\n",
       "    </tr>\n",
       "    <tr>\n",
       "      <th>3</th>\n",
       "      <td>THE</td>\n",
       "      <td>the</td>\n",
       "      <td>DT</td>\n",
       "    </tr>\n",
       "    <tr>\n",
       "      <th>4</th>\n",
       "      <td>CHARACTER</td>\n",
       "      <td>character</td>\n",
       "      <td>NN</td>\n",
       "    </tr>\n",
       "    <tr>\n",
       "      <th>...</th>\n",
       "      <th>...</th>\n",
       "      <th>...</th>\n",
       "      <th>...</th>\n",
       "      <th>...</th>\n",
       "      <td>...</td>\n",
       "      <td>...</td>\n",
       "      <td>...</td>\n",
       "    </tr>\n",
       "    <tr>\n",
       "      <th rowspan=\"5\" valign=\"top\">2.0</th>\n",
       "      <th rowspan=\"5\" valign=\"top\">126</th>\n",
       "      <th rowspan=\"5\" valign=\"top\">24</th>\n",
       "      <th rowspan=\"3\" valign=\"top\">8</th>\n",
       "      <th>44</th>\n",
       "      <td>fall</td>\n",
       "      <td>fall</td>\n",
       "      <td>VB</td>\n",
       "    </tr>\n",
       "    <tr>\n",
       "      <th>45</th>\n",
       "      <td>for</td>\n",
       "      <td>for</td>\n",
       "      <td>IN</td>\n",
       "    </tr>\n",
       "    <tr>\n",
       "      <th>46</th>\n",
       "      <td>ever</td>\n",
       "      <td>ever</td>\n",
       "      <td>RB</td>\n",
       "    </tr>\n",
       "    <tr>\n",
       "      <th>9</th>\n",
       "      <th>0</th>\n",
       "      <td>Farewell</td>\n",
       "      <td>farewell</td>\n",
       "      <td>VB</td>\n",
       "    </tr>\n",
       "    <tr>\n",
       "      <th>10</th>\n",
       "      <th>0</th>\n",
       "      <td>”</td>\n",
       "      <td>”</td>\n",
       "      <td>''</td>\n",
       "    </tr>\n",
       "  </tbody>\n",
       "</table>\n",
       "<p>429096 rows × 3 columns</p>\n",
       "</div>"
      ],
      "text/plain": [
       "                                                                  token_str  \\\n",
       "title       language volume chap_num para_num sent_num token_num              \n",
       "DON QUIXOTE English  1.0    1        0        0        0              WHICH   \n",
       "                                                       1             TREATS   \n",
       "                                                       2                 OF   \n",
       "                                                       3                THE   \n",
       "                                                       4          CHARACTER   \n",
       "...                                                                     ...   \n",
       "                     2.0    126      24       8        44              fall   \n",
       "                                                       45               for   \n",
       "                                                       46              ever   \n",
       "                                              9        0           Farewell   \n",
       "                                              10       0                  ”   \n",
       "\n",
       "                                                                   term_str  \\\n",
       "title       language volume chap_num para_num sent_num token_num              \n",
       "DON QUIXOTE English  1.0    1        0        0        0              which   \n",
       "                                                       1             treats   \n",
       "                                                       2                 of   \n",
       "                                                       3                the   \n",
       "                                                       4          character   \n",
       "...                                                                     ...   \n",
       "                     2.0    126      24       8        44              fall   \n",
       "                                                       45               for   \n",
       "                                                       46              ever   \n",
       "                                              9        0           farewell   \n",
       "                                              10       0                  ”   \n",
       "\n",
       "                                                                  pos  \n",
       "title       language volume chap_num para_num sent_num token_num       \n",
       "DON QUIXOTE English  1.0    1        0        0        0          WDT  \n",
       "                                                       1          VBD  \n",
       "                                                       2           IN  \n",
       "                                                       3           DT  \n",
       "                                                       4           NN  \n",
       "...                                                               ...  \n",
       "                     2.0    126      24       8        44          VB  \n",
       "                                                       45          IN  \n",
       "                                                       46          RB  \n",
       "                                              9        0           VB  \n",
       "                                              10       0           ''  \n",
       "\n",
       "[429096 rows x 3 columns]"
      ]
     },
     "execution_count": 25,
     "metadata": {},
     "output_type": "execute_result"
    }
   ],
   "source": [
    "DQE_TOK.token_str = DQE_TOK.token_str.apply(lambda x: str(x))\n",
    "DQE_TOK['term_str'] = DQE_TOK.token_str.str.lower()\n",
    "DQE_TOK = DQE_TOK.merge(DQE_POS)\n",
    "DQE_TOK.set_index(OHCO[:7])"
   ]
  },
  {
   "cell_type": "markdown",
   "id": "c57bc89c-1185-4c8a-aa36-3a02377d0ce2",
   "metadata": {},
   "source": [
    "#### Spanish"
   ]
  },
  {
   "cell_type": "code",
   "execution_count": 26,
   "id": "3c218688-4fb8-44f3-bf8e-db5e2ba20ec9",
   "metadata": {},
   "outputs": [],
   "source": [
    "DQS_LINES = DQ_Span\n",
    "DQS_LINES.index.name = 'line_num'\n",
    "DQS_LINES.line_str = DQS_LINES.line_str.str.replace(r'\\n+', ' ',regex=True).str.strip()"
   ]
  },
  {
   "cell_type": "code",
   "execution_count": 27,
   "id": "fd1cc519-ad35-45ad-ba63-73c4499e369a",
   "metadata": {},
   "outputs": [],
   "source": [
    "DQS_Begin = DQS_LINES.line_str.str.match(r'Capítulo primero. ')\n",
    "DQS_End = DQS_LINES.line_str.str.match(r'\\*\\*\\*\\s*END OF THE PROJECT GUTENBERG EBOOK DON QUIJOTE')"
   ]
  },
  {
   "cell_type": "code",
   "execution_count": 28,
   "id": "0d778137-4774-45b8-be5c-af86f82960a8",
   "metadata": {},
   "outputs": [],
   "source": [
    "DQS_LINES = DQS_LINES.loc[DQS_LINES.loc[DQS_Begin].index[0]:DQS_LINES.loc[DQS_End].index[0]-5]"
   ]
  },
  {
   "cell_type": "code",
   "execution_count": 29,
   "id": "49919bde-45c1-441b-bba6-1559b896d07c",
   "metadata": {},
   "outputs": [],
   "source": [
    "DQS_LINES['title'] = 'DON QUIJOTE'\n",
    "DQS_LINES['language'] = 'Spanish'"
   ]
  },
  {
   "cell_type": "code",
   "execution_count": 30,
   "id": "614579f3-ff13-44a5-a7e6-327caae5605d",
   "metadata": {},
   "outputs": [],
   "source": [
    "DQS_Vols = DQS_LINES.line_str.str.match(r'Capítulo primero. |Capítulo Primero. ')\n",
    "DQS_LINES.loc[DQS_Vols, 'volume'] = [i+1 for i in range(DQS_LINES.loc[DQS_Vols].shape[0])]\n",
    "DQS_LINES.volume = DQS_LINES.volume.ffill()"
   ]
  },
  {
   "cell_type": "code",
   "execution_count": 31,
   "id": "2390f41d-ba01-4b78-bc7a-86725e88d73a",
   "metadata": {},
   "outputs": [],
   "source": [
    "DQS_Chaps = DQS_LINES.line_str.str.match(DQS_ChapPat)\n",
    "DQS_LINES.loc[DQS_Chaps, 'chap_num'] = [i+1 for i in range(DQS_LINES.loc[DQS_Chaps].shape[0])]\n",
    "DQS_LINES.chap_num = DQS_LINES.chap_num.ffill()"
   ]
  },
  {
   "cell_type": "code",
   "execution_count": 32,
   "id": "b58b86a8-d41e-48e6-9fdd-18a79e9d6b80",
   "metadata": {},
   "outputs": [],
   "source": [
    "DQS_LINES = DQS_LINES.dropna(subset=['chap_num'])\n",
    "DQS_LINES = DQS_LINES.loc[~DQS_Chaps]\n",
    "DQS_LINES.chap_num = DQS_LINES.chap_num.astype('int')"
   ]
  },
  {
   "cell_type": "code",
   "execution_count": 33,
   "id": "951840dc-5533-402e-a937-61b322d3b8d0",
   "metadata": {},
   "outputs": [],
   "source": [
    "DQS_CHAPS = DQS_LINES.groupby(OHCO[:4]).line_str.apply(lambda x: '\\n'.join(x)).to_frame('chap_str')\n",
    "DQS_CHAPS['chap_str'] = DQS_CHAPS.chap_str.str.strip()"
   ]
  },
  {
   "cell_type": "code",
   "execution_count": 34,
   "id": "0786f106-efb6-4e73-9191-1fa995615c10",
   "metadata": {},
   "outputs": [],
   "source": [
    "DQS_PARAS = DQS_CHAPS['chap_str'].str.split(DQS_ParaPat, expand=True).stack().to_frame('para_str').sort_index()\n",
    "DQS_PARAS.index.names = OHCO[:5]\n",
    "DQS_PARAS['para_str'] = DQS_PARAS['para_str'].str.replace(r'\\n', '', regex=True)\n",
    "DQS_PARAS['para_str'] = DQS_PARAS['para_str'].str.strip()\n",
    "DQS_PARAS = DQS_PARAS[~DQS_PARAS['para_str'].str.match(r'^\\s*$')]"
   ]
  },
  {
   "cell_type": "code",
   "execution_count": 35,
   "id": "fc8ed0c5-5ea2-46ef-9fab-a13e8d06ce04",
   "metadata": {},
   "outputs": [],
   "source": [
    "DQS_SENTS = DQS_PARAS['para_str'].str.split(DQS_SentPat, expand=True).stack().to_frame('sent_str')\n",
    "DQS_SENTS.index.names = OHCO[:6]\n",
    "DQS_SENTS = DQS_SENTS[~DQS_SENTS['sent_str'].str.match(r'^\\s*$')]\n",
    "DQS_SENTS.sent_str = DQS_SENTS.sent_str.str.strip()"
   ]
  },
  {
   "cell_type": "code",
   "execution_count": 36,
   "id": "1436f19f-d089-4d6f-ba59-6029ff111065",
   "metadata": {},
   "outputs": [],
   "source": [
    "#DQS_TOK = DQS_SENTS['sent_str'].str.split(DQS_TokPat, expand=True).stack().to_frame('token_str')\n",
    "#DQS_TOK.index.names = OHCO[:7]\n",
    "#DQS_TOK['term_str'] = DQS_TOK.token_str.replace(r'[\\W_]+','', regex=True).str.lower()"
   ]
  },
  {
   "cell_type": "code",
   "execution_count": 37,
   "id": "b962f0f5-0493-4f01-b0d4-74a0829bfed3",
   "metadata": {},
   "outputs": [],
   "source": [
    "DQS_TOK = DQS_SENTS.sent_str.apply(lambda x: pd.Series(nlpS(x))).stack().to_frame('token_str')\n",
    "DQS_TOK.index.names = OHCO[:7]\n",
    "DQS_POS = DQS_TOK.token_str.apply(lambda x: pd.Series(x.tag_)).stack().to_frame('pos')"
   ]
  },
  {
   "cell_type": "code",
   "execution_count": 38,
   "id": "f209ef2d-36cb-476c-a825-77b30d6b8dae",
   "metadata": {},
   "outputs": [],
   "source": [
    "DQS_TOK = DQS_TOK.reset_index()\n",
    "DQS_POS = DQS_POS.reset_index()\n",
    "DQS_POS = DQS_POS.drop('level_7', axis=1)"
   ]
  },
  {
   "cell_type": "code",
   "execution_count": 39,
   "id": "00391d43-f488-4bf9-9378-bbeb1b8a6180",
   "metadata": {},
   "outputs": [
    {
     "data": {
      "text/html": [
       "<div>\n",
       "<style scoped>\n",
       "    .dataframe tbody tr th:only-of-type {\n",
       "        vertical-align: middle;\n",
       "    }\n",
       "\n",
       "    .dataframe tbody tr th {\n",
       "        vertical-align: top;\n",
       "    }\n",
       "\n",
       "    .dataframe thead th {\n",
       "        text-align: right;\n",
       "    }\n",
       "</style>\n",
       "<table border=\"1\" class=\"dataframe\">\n",
       "  <thead>\n",
       "    <tr style=\"text-align: right;\">\n",
       "      <th></th>\n",
       "      <th></th>\n",
       "      <th></th>\n",
       "      <th></th>\n",
       "      <th></th>\n",
       "      <th></th>\n",
       "      <th></th>\n",
       "      <th>token_str</th>\n",
       "      <th>term_str</th>\n",
       "      <th>pos</th>\n",
       "    </tr>\n",
       "    <tr>\n",
       "      <th>title</th>\n",
       "      <th>language</th>\n",
       "      <th>volume</th>\n",
       "      <th>chap_num</th>\n",
       "      <th>para_num</th>\n",
       "      <th>sent_num</th>\n",
       "      <th>token_num</th>\n",
       "      <th></th>\n",
       "      <th></th>\n",
       "      <th></th>\n",
       "    </tr>\n",
       "  </thead>\n",
       "  <tbody>\n",
       "    <tr>\n",
       "      <th rowspan=\"11\" valign=\"top\">DON QUIJOTE</th>\n",
       "      <th rowspan=\"11\" valign=\"top\">Spanish</th>\n",
       "      <th rowspan=\"5\" valign=\"top\">1.0</th>\n",
       "      <th rowspan=\"5\" valign=\"top\">1</th>\n",
       "      <th rowspan=\"5\" valign=\"top\">0</th>\n",
       "      <th rowspan=\"5\" valign=\"top\">0</th>\n",
       "      <th>0</th>\n",
       "      <td>don</td>\n",
       "      <td>don</td>\n",
       "      <td>NOUN</td>\n",
       "    </tr>\n",
       "    <tr>\n",
       "      <th>1</th>\n",
       "      <td>Quijote</td>\n",
       "      <td>quijote</td>\n",
       "      <td>PROPN</td>\n",
       "    </tr>\n",
       "    <tr>\n",
       "      <th>2</th>\n",
       "      <td>de</td>\n",
       "      <td>de</td>\n",
       "      <td>ADP</td>\n",
       "    </tr>\n",
       "    <tr>\n",
       "      <th>3</th>\n",
       "      <td>la</td>\n",
       "      <td>la</td>\n",
       "      <td>DET</td>\n",
       "    </tr>\n",
       "    <tr>\n",
       "      <th>4</th>\n",
       "      <td>Mancha</td>\n",
       "      <td>mancha</td>\n",
       "      <td>PROPN</td>\n",
       "    </tr>\n",
       "    <tr>\n",
       "      <th>...</th>\n",
       "      <th>...</th>\n",
       "      <th>...</th>\n",
       "      <th>...</th>\n",
       "      <th>...</th>\n",
       "      <td>...</td>\n",
       "      <td>...</td>\n",
       "      <td>...</td>\n",
       "    </tr>\n",
       "    <tr>\n",
       "      <th rowspan=\"5\" valign=\"top\">2.0</th>\n",
       "      <th rowspan=\"5\" valign=\"top\">126</th>\n",
       "      <th rowspan=\"4\" valign=\"top\">37</th>\n",
       "      <th rowspan=\"3\" valign=\"top\">5</th>\n",
       "      <th>80</th>\n",
       "      <td>sin</td>\n",
       "      <td>sin</td>\n",
       "      <td>ADP</td>\n",
       "    </tr>\n",
       "    <tr>\n",
       "      <th>81</th>\n",
       "      <td>duda</td>\n",
       "      <td>duda</td>\n",
       "      <td>NOUN</td>\n",
       "    </tr>\n",
       "    <tr>\n",
       "      <th>82</th>\n",
       "      <td>alguna</td>\n",
       "      <td>alguna</td>\n",
       "      <td>DET</td>\n",
       "    </tr>\n",
       "    <tr>\n",
       "      <th>6</th>\n",
       "      <th>0</th>\n",
       "      <td>Vale</td>\n",
       "      <td>vale</td>\n",
       "      <td>PROPN</td>\n",
       "    </tr>\n",
       "    <tr>\n",
       "      <th>38</th>\n",
       "      <th>0</th>\n",
       "      <th>0</th>\n",
       "      <td>Fin</td>\n",
       "      <td>fin</td>\n",
       "      <td>PROPN</td>\n",
       "    </tr>\n",
       "  </tbody>\n",
       "</table>\n",
       "<p>401953 rows × 3 columns</p>\n",
       "</div>"
      ],
      "text/plain": [
       "                                                                 token_str  \\\n",
       "title       language volume chap_num para_num sent_num token_num             \n",
       "DON QUIJOTE Spanish  1.0    1        0        0        0               don   \n",
       "                                                       1           Quijote   \n",
       "                                                       2                de   \n",
       "                                                       3                la   \n",
       "                                                       4            Mancha   \n",
       "...                                                                    ...   \n",
       "                     2.0    126      37       5        80              sin   \n",
       "                                                       81             duda   \n",
       "                                                       82           alguna   \n",
       "                                              6        0              Vale   \n",
       "                                     38       0        0               Fin   \n",
       "\n",
       "                                                                 term_str  \\\n",
       "title       language volume chap_num para_num sent_num token_num            \n",
       "DON QUIJOTE Spanish  1.0    1        0        0        0              don   \n",
       "                                                       1          quijote   \n",
       "                                                       2               de   \n",
       "                                                       3               la   \n",
       "                                                       4           mancha   \n",
       "...                                                                   ...   \n",
       "                     2.0    126      37       5        80             sin   \n",
       "                                                       81            duda   \n",
       "                                                       82          alguna   \n",
       "                                              6        0             vale   \n",
       "                                     38       0        0              fin   \n",
       "\n",
       "                                                                    pos  \n",
       "title       language volume chap_num para_num sent_num token_num         \n",
       "DON QUIJOTE Spanish  1.0    1        0        0        0           NOUN  \n",
       "                                                       1          PROPN  \n",
       "                                                       2            ADP  \n",
       "                                                       3            DET  \n",
       "                                                       4          PROPN  \n",
       "...                                                                 ...  \n",
       "                     2.0    126      37       5        80           ADP  \n",
       "                                                       81          NOUN  \n",
       "                                                       82           DET  \n",
       "                                              6        0          PROPN  \n",
       "                                     38       0        0          PROPN  \n",
       "\n",
       "[401953 rows x 3 columns]"
      ]
     },
     "execution_count": 39,
     "metadata": {},
     "output_type": "execute_result"
    }
   ],
   "source": [
    "DQS_TOK.token_str = DQS_TOK.token_str.apply(lambda x: str(x))\n",
    "DQS_TOK['term_str'] = DQS_TOK.token_str.str.lower()\n",
    "DQS_TOK = DQS_TOK.merge(DQS_POS)\n",
    "DQS_TOK.set_index(OHCO[:7])"
   ]
  },
  {
   "cell_type": "markdown",
   "id": "de0ef1cb-cfc5-4128-a140-cb5e8461c1ba",
   "metadata": {},
   "source": [
    "### Exemplary Novels"
   ]
  },
  {
   "cell_type": "markdown",
   "id": "5d89902e-2a25-4195-96f9-211595f2ff9d",
   "metadata": {},
   "source": [
    "#### English"
   ]
  },
  {
   "cell_type": "code",
   "execution_count": 40,
   "id": "89c92d10-3b2c-401d-b929-679a861d0d14",
   "metadata": {},
   "outputs": [],
   "source": [
    "ENE_LINES = EN_Eng\n",
    "ENE_LINES.index.name = 'line_num'\n",
    "ENE_LINES.line_str = ENE_LINES.line_str.str.replace(r'\\n+', ' ',regex=True).str.strip()"
   ]
  },
  {
   "cell_type": "code",
   "execution_count": 41,
   "id": "a2a4bbb9-287c-401d-b0d1-33cacfe849b3",
   "metadata": {},
   "outputs": [],
   "source": [
    "ENE_Begin = ENE_LINES.line_str.str.match(r'THE LADY CORNELIA.$')\n",
    "ENE_End = ENE_LINES.line_str.str.match(r'\\*\\*\\*\\s*END OF THIS PROJECT GUTENBERG EBOOK THE EXEMPLARY NOVELS OF CERVANTES')"
   ]
  },
  {
   "cell_type": "code",
   "execution_count": 42,
   "id": "b43d7a57-c96f-4540-a32a-a54765cb7205",
   "metadata": {},
   "outputs": [],
   "source": [
    "ENE_LINES = ENE_LINES.loc[ENE_LINES.loc[ENE_Begin].index[0]:ENE_LINES.loc[ENE_End].index[0]-14]"
   ]
  },
  {
   "cell_type": "code",
   "execution_count": 43,
   "id": "4b8b12ae-48ee-4c69-be8e-67a6a8584172",
   "metadata": {},
   "outputs": [],
   "source": [
    "ENE_Stories = ENE_LINES.line_str.str.match(ENE_Titles)\n",
    "ENE_LINES.loc[ENE_Stories, 'title'] = ENE_LINES.loc[ENE_Stories].line_str\n",
    "ENE_LINES.title = ENE_LINES.title.ffill()"
   ]
  },
  {
   "cell_type": "code",
   "execution_count": 44,
   "id": "51528b10-59f8-4908-852e-eedafd039c8f",
   "metadata": {},
   "outputs": [],
   "source": [
    "ENE_LINES['language'] = 'English'\n",
    "ENE_LINES['volume'] = 1\n",
    "ENE_LINES['chap_num'] = 1"
   ]
  },
  {
   "cell_type": "code",
   "execution_count": 45,
   "id": "015fe733-0d95-43c9-9442-ecfbdcd3d0e9",
   "metadata": {},
   "outputs": [],
   "source": [
    "ENE_CHAPS = ENE_LINES.groupby(OHCO[:4]).line_str.apply(lambda x: '\\n'.join(x)).to_frame('chap_str')\n",
    "ENE_CHAPS['chap_str'] = ENE_CHAPS.chap_str.str.strip()"
   ]
  },
  {
   "cell_type": "code",
   "execution_count": 46,
   "id": "1dbd943f-5de8-41a8-ad9d-a111c561ad5d",
   "metadata": {},
   "outputs": [],
   "source": [
    "ENE_PARAS = ENE_CHAPS['chap_str'].str.split(ENE_ParaPat, expand=True).stack().to_frame('para_str').sort_index()\n",
    "ENE_PARAS.index.names = OHCO[:5]\n",
    "ENE_PARAS['para_str'] = ENE_PARAS['para_str'].str.replace(r'\\n', '', regex=True)\n",
    "ENE_PARAS['para_str'] = ENE_PARAS['para_str'].str.strip()\n",
    "ENE_PARAS = ENE_PARAS[~ENE_PARAS['para_str'].str.match(r'^\\s*$')]"
   ]
  },
  {
   "cell_type": "code",
   "execution_count": 47,
   "id": "abd0d95c-0375-4eaf-b05b-27a3058d6227",
   "metadata": {},
   "outputs": [],
   "source": [
    "ENE_SENTS = ENE_PARAS['para_str'].str.split(ENE_SentPat, expand=True).stack().to_frame('sent_str')\n",
    "ENE_SENTS.index.names = OHCO[:6]\n",
    "ENE_SENTS = ENE_SENTS[~ENE_SENTS['sent_str'].str.match(r'^\\s*$')]\n",
    "ENE_SENTS.sent_str = ENE_SENTS.sent_str.str.strip()"
   ]
  },
  {
   "cell_type": "code",
   "execution_count": 48,
   "id": "f02f0590-5f62-4183-ad18-95f9062d2df2",
   "metadata": {},
   "outputs": [],
   "source": [
    "ENE_TOK = ENE_SENTS.sent_str.apply(lambda x: pd.Series(nlpE(x))).stack().to_frame('token_str')\n",
    "ENE_TOK.index.names = OHCO[:7]\n",
    "ENE_POS = ENE_TOK.token_str.apply(lambda x: pd.Series(x.tag_)).stack().to_frame('pos')"
   ]
  },
  {
   "cell_type": "code",
   "execution_count": 49,
   "id": "ed884773-cd85-4a4d-8640-1b87a162a208",
   "metadata": {},
   "outputs": [],
   "source": [
    "ENE_TOK = ENE_TOK.reset_index()\n",
    "ENE_POS = ENE_POS.reset_index()\n",
    "ENE_POS = ENE_POS.drop('level_7', axis=1)"
   ]
  },
  {
   "cell_type": "code",
   "execution_count": 50,
   "id": "6e49f7af-8cc3-42b2-a7b1-d351fd761c6d",
   "metadata": {},
   "outputs": [
    {
     "data": {
      "text/html": [
       "<div>\n",
       "<style scoped>\n",
       "    .dataframe tbody tr th:only-of-type {\n",
       "        vertical-align: middle;\n",
       "    }\n",
       "\n",
       "    .dataframe tbody tr th {\n",
       "        vertical-align: top;\n",
       "    }\n",
       "\n",
       "    .dataframe thead th {\n",
       "        text-align: right;\n",
       "    }\n",
       "</style>\n",
       "<table border=\"1\" class=\"dataframe\">\n",
       "  <thead>\n",
       "    <tr style=\"text-align: right;\">\n",
       "      <th></th>\n",
       "      <th></th>\n",
       "      <th></th>\n",
       "      <th></th>\n",
       "      <th></th>\n",
       "      <th></th>\n",
       "      <th></th>\n",
       "      <th>token_str</th>\n",
       "      <th>term_str</th>\n",
       "      <th>pos</th>\n",
       "    </tr>\n",
       "    <tr>\n",
       "      <th>title</th>\n",
       "      <th>language</th>\n",
       "      <th>volume</th>\n",
       "      <th>chap_num</th>\n",
       "      <th>para_num</th>\n",
       "      <th>sent_num</th>\n",
       "      <th>token_num</th>\n",
       "      <th></th>\n",
       "      <th></th>\n",
       "      <th></th>\n",
       "    </tr>\n",
       "  </thead>\n",
       "  <tbody>\n",
       "    <tr>\n",
       "      <th rowspan=\"5\" valign=\"top\">DIALOGUE BETWEEN SCIPIO AND BERGANZA,</th>\n",
       "      <th rowspan=\"5\" valign=\"top\">English</th>\n",
       "      <th rowspan=\"5\" valign=\"top\">1</th>\n",
       "      <th rowspan=\"5\" valign=\"top\">1</th>\n",
       "      <th rowspan=\"5\" valign=\"top\">0</th>\n",
       "      <th rowspan=\"5\" valign=\"top\">0</th>\n",
       "      <th>0</th>\n",
       "      <td>DIALOGUE</td>\n",
       "      <td>dialogue</td>\n",
       "      <td>NN</td>\n",
       "    </tr>\n",
       "    <tr>\n",
       "      <th>1</th>\n",
       "      <td>BETWEEN</td>\n",
       "      <td>between</td>\n",
       "      <td>IN</td>\n",
       "    </tr>\n",
       "    <tr>\n",
       "      <th>2</th>\n",
       "      <td>SCIPIO</td>\n",
       "      <td>scipio</td>\n",
       "      <td>NNS</td>\n",
       "    </tr>\n",
       "    <tr>\n",
       "      <th>3</th>\n",
       "      <td>AND</td>\n",
       "      <td>and</td>\n",
       "      <td>CC</td>\n",
       "    </tr>\n",
       "    <tr>\n",
       "      <th>4</th>\n",
       "      <td>BERGANZA</td>\n",
       "      <td>berganza</td>\n",
       "      <td>NN</td>\n",
       "    </tr>\n",
       "    <tr>\n",
       "      <th>...</th>\n",
       "      <th>...</th>\n",
       "      <th>...</th>\n",
       "      <th>...</th>\n",
       "      <th>...</th>\n",
       "      <th>...</th>\n",
       "      <th>...</th>\n",
       "      <td>...</td>\n",
       "      <td>...</td>\n",
       "      <td>...</td>\n",
       "    </tr>\n",
       "    <tr>\n",
       "      <th rowspan=\"5\" valign=\"top\">THE TWO DAMSELS.</th>\n",
       "      <th rowspan=\"5\" valign=\"top\">English</th>\n",
       "      <th rowspan=\"5\" valign=\"top\">1</th>\n",
       "      <th rowspan=\"5\" valign=\"top\">1</th>\n",
       "      <th rowspan=\"5\" valign=\"top\">81</th>\n",
       "      <th rowspan=\"5\" valign=\"top\">5</th>\n",
       "      <th>30</th>\n",
       "      <td>heroines</td>\n",
       "      <td>heroines</td>\n",
       "      <td>NNS</td>\n",
       "    </tr>\n",
       "    <tr>\n",
       "      <th>31</th>\n",
       "      <td>of</td>\n",
       "      <td>of</td>\n",
       "      <td>IN</td>\n",
       "    </tr>\n",
       "    <tr>\n",
       "      <th>32</th>\n",
       "      <td>this</td>\n",
       "      <td>this</td>\n",
       "      <td>DT</td>\n",
       "    </tr>\n",
       "    <tr>\n",
       "      <th>33</th>\n",
       "      <td>strange</td>\n",
       "      <td>strange</td>\n",
       "      <td>JJ</td>\n",
       "    </tr>\n",
       "    <tr>\n",
       "      <th>34</th>\n",
       "      <td>story</td>\n",
       "      <td>story</td>\n",
       "      <td>NN</td>\n",
       "    </tr>\n",
       "  </tbody>\n",
       "</table>\n",
       "<p>194683 rows × 3 columns</p>\n",
       "</div>"
      ],
      "text/plain": [
       "                                                                                           token_str  \\\n",
       "title                                 language volume chap_num para_num sent_num token_num             \n",
       "DIALOGUE BETWEEN SCIPIO AND BERGANZA, English  1      1        0        0        0          DIALOGUE   \n",
       "                                                                                 1           BETWEEN   \n",
       "                                                                                 2            SCIPIO   \n",
       "                                                                                 3               AND   \n",
       "                                                                                 4          BERGANZA   \n",
       "...                                                                                              ...   \n",
       "THE TWO DAMSELS.                      English  1      1        81       5        30         heroines   \n",
       "                                                                                 31               of   \n",
       "                                                                                 32             this   \n",
       "                                                                                 33          strange   \n",
       "                                                                                 34            story   \n",
       "\n",
       "                                                                                            term_str  \\\n",
       "title                                 language volume chap_num para_num sent_num token_num             \n",
       "DIALOGUE BETWEEN SCIPIO AND BERGANZA, English  1      1        0        0        0          dialogue   \n",
       "                                                                                 1           between   \n",
       "                                                                                 2            scipio   \n",
       "                                                                                 3               and   \n",
       "                                                                                 4          berganza   \n",
       "...                                                                                              ...   \n",
       "THE TWO DAMSELS.                      English  1      1        81       5        30         heroines   \n",
       "                                                                                 31               of   \n",
       "                                                                                 32             this   \n",
       "                                                                                 33          strange   \n",
       "                                                                                 34            story   \n",
       "\n",
       "                                                                                            pos  \n",
       "title                                 language volume chap_num para_num sent_num token_num       \n",
       "DIALOGUE BETWEEN SCIPIO AND BERGANZA, English  1      1        0        0        0           NN  \n",
       "                                                                                 1           IN  \n",
       "                                                                                 2          NNS  \n",
       "                                                                                 3           CC  \n",
       "                                                                                 4           NN  \n",
       "...                                                                                         ...  \n",
       "THE TWO DAMSELS.                      English  1      1        81       5        30         NNS  \n",
       "                                                                                 31          IN  \n",
       "                                                                                 32          DT  \n",
       "                                                                                 33          JJ  \n",
       "                                                                                 34          NN  \n",
       "\n",
       "[194683 rows x 3 columns]"
      ]
     },
     "execution_count": 50,
     "metadata": {},
     "output_type": "execute_result"
    }
   ],
   "source": [
    "ENE_TOK.token_str = ENE_TOK.token_str.apply(lambda x: str(x))\n",
    "ENE_TOK['term_str'] = ENE_TOK.token_str.str.lower()\n",
    "ENE_TOK = ENE_TOK.merge(ENE_POS)\n",
    "ENE_TOK.set_index(OHCO[:7])"
   ]
  },
  {
   "cell_type": "markdown",
   "id": "ac550370-4216-443f-aada-ab3c8a990b14",
   "metadata": {},
   "source": [
    "#### Spanish"
   ]
  },
  {
   "cell_type": "code",
   "execution_count": 75,
   "id": "6c321195-e396-49c6-ac36-8aadcf1e76aa",
   "metadata": {},
   "outputs": [],
   "source": [
    "ENS_LINES = EN_Span\n",
    "ENS_LINES.index.name = 'line_num'\n",
    "ENS_LINES.line_str = ENS_LINES.line_str.str.replace(r'\\n+', ' ',regex=True).str.strip()"
   ]
  },
  {
   "cell_type": "code",
   "execution_count": 76,
   "id": "1918667b-3618-4c2f-b427-4ef6ed21e37a",
   "metadata": {},
   "outputs": [],
   "source": [
    "ENS_Begin = ENS_LINES.line_str.str.match(r'LA JITANILLA.$')\n",
    "ENS_End = ENS_LINES.line_str.str.match(r'\\*\\*\\*\\s*END OF THIS PROJECT GUTENBERG EBOOK ')"
   ]
  },
  {
   "cell_type": "code",
   "execution_count": 77,
   "id": "5945d833-8171-422e-8f28-c723386a797d",
   "metadata": {},
   "outputs": [],
   "source": [
    "ENS_LINES = ENS_LINES.loc[ENS_LINES.loc[ENS_Begin].index[0]:ENS_LINES.loc[ENS_End].index[0]-27]"
   ]
  },
  {
   "cell_type": "code",
   "execution_count": 78,
   "id": "67962bd1-61e4-475f-8803-e4f51b3fa1f9",
   "metadata": {},
   "outputs": [],
   "source": [
    "ENS_Stories = ENS_LINES.line_str.str.match(ENS_Titles)\n",
    "ENS_LINES.loc[ENS_Stories, 'title'] = ENS_LINES.loc[ENS_Stories].line_str.str.strip()\n",
    "ENS_LINES.title = ENS_LINES.title.ffill()"
   ]
  },
  {
   "cell_type": "code",
   "execution_count": 79,
   "id": "06a5673b-2e1b-4169-b01e-a5fb15ee5e51",
   "metadata": {},
   "outputs": [],
   "source": [
    "ENS_LINES['language'] = 'Spanish'\n",
    "ENS_LINES['volume'] = 1\n",
    "ENS_LINES['chap_num'] = 1"
   ]
  },
  {
   "cell_type": "code",
   "execution_count": 80,
   "id": "ece6d3d4-6590-42eb-a6ef-4f33cd670661",
   "metadata": {},
   "outputs": [],
   "source": [
    "ENS_CHAPS = ENS_LINES.groupby(OHCO[:4]).line_str.apply(lambda x: '\\n'.join(x)).to_frame('chap_str')\n",
    "ENS_CHAPS['chap_str'] = ENS_CHAPS.chap_str.str.strip()"
   ]
  },
  {
   "cell_type": "code",
   "execution_count": 81,
   "id": "a39fa226-9795-43cc-ba28-e75be40bcdf7",
   "metadata": {},
   "outputs": [],
   "source": [
    "ENS_PARAS = ENS_CHAPS['chap_str'].str.split(ENS_ParaPat, expand=True).stack().to_frame('para_str').sort_index()\n",
    "ENS_PARAS.index.names = OHCO[:5]\n",
    "ENS_PARAS['para_str'] = ENS_PARAS['para_str'].str.replace(r'\\n', '', regex=True)\n",
    "ENS_PARAS['para_str'] = ENS_PARAS['para_str'].str.strip()\n",
    "ENS_PARAS = ENS_PARAS[~ENS_PARAS['para_str'].str.match(r'^\\s*$')]"
   ]
  },
  {
   "cell_type": "code",
   "execution_count": 82,
   "id": "26e9daf4-a47c-40ea-8a15-b84c5f09e9ab",
   "metadata": {},
   "outputs": [],
   "source": [
    "ENS_SENTS = ENS_PARAS['para_str'].str.split(ENS_SentPat, expand=True).stack().to_frame('sent_str')\n",
    "ENS_SENTS.index.names = OHCO[:6]\n",
    "ENS_SENTS = ENS_SENTS[~ENS_SENTS['sent_str'].str.match(r'^\\s*$')]\n",
    "ENS_SENTS.sent_str = ENS_SENTS.sent_str.str.strip()"
   ]
  },
  {
   "cell_type": "code",
   "execution_count": 83,
   "id": "533a281b-285a-4560-b972-c6be79ecd618",
   "metadata": {},
   "outputs": [],
   "source": [
    "#ENS_TOK = ENS_SENTS['sent_str'].str.split(ENS_TokPat, expand=True).stack().to_frame('token_str')\n",
    "#ENS_TOK.index.names = OHCO[:7]\n",
    "#ENS_TOK['term_str'] = ENS_TOK.token_str.replace(r'[\\W_]+','', regex=True).str.lower()"
   ]
  },
  {
   "cell_type": "code",
   "execution_count": 84,
   "id": "58aabec1-3989-468d-8232-8cef83f49b03",
   "metadata": {},
   "outputs": [],
   "source": [
    "ENS_TOK = ENS_SENTS.sent_str.apply(lambda x: pd.Series(nlpS(x))).stack().to_frame('token_str')\n",
    "ENS_TOK.index.names = OHCO[:7]\n",
    "ENS_POS = ENS_TOK.token_str.apply(lambda x: pd.Series(x.tag_)).stack().to_frame('pos')"
   ]
  },
  {
   "cell_type": "code",
   "execution_count": 85,
   "id": "ebf09639-a510-40ba-b7d2-3e939260a1d1",
   "metadata": {},
   "outputs": [],
   "source": [
    "ENS_TOK = ENS_TOK.reset_index()\n",
    "ENS_POS = ENS_POS.reset_index()\n",
    "ENS_POS = ENS_POS.drop('level_7', axis=1)"
   ]
  },
  {
   "cell_type": "code",
   "execution_count": 86,
   "id": "1bebf6d9-0506-4734-8d51-8cba6008726f",
   "metadata": {},
   "outputs": [
    {
     "data": {
      "text/html": [
       "<div>\n",
       "<style scoped>\n",
       "    .dataframe tbody tr th:only-of-type {\n",
       "        vertical-align: middle;\n",
       "    }\n",
       "\n",
       "    .dataframe tbody tr th {\n",
       "        vertical-align: top;\n",
       "    }\n",
       "\n",
       "    .dataframe thead th {\n",
       "        text-align: right;\n",
       "    }\n",
       "</style>\n",
       "<table border=\"1\" class=\"dataframe\">\n",
       "  <thead>\n",
       "    <tr style=\"text-align: right;\">\n",
       "      <th></th>\n",
       "      <th></th>\n",
       "      <th></th>\n",
       "      <th></th>\n",
       "      <th></th>\n",
       "      <th></th>\n",
       "      <th></th>\n",
       "      <th>token_str</th>\n",
       "      <th>term_str</th>\n",
       "      <th>pos</th>\n",
       "    </tr>\n",
       "    <tr>\n",
       "      <th>title</th>\n",
       "      <th>language</th>\n",
       "      <th>volume</th>\n",
       "      <th>chap_num</th>\n",
       "      <th>para_num</th>\n",
       "      <th>sent_num</th>\n",
       "      <th>token_num</th>\n",
       "      <th></th>\n",
       "      <th></th>\n",
       "      <th></th>\n",
       "    </tr>\n",
       "  </thead>\n",
       "  <tbody>\n",
       "    <tr>\n",
       "      <th rowspan=\"5\" valign=\"top\">COLOQUIO QUE PASO ENTRE CIPION Y BERGANZA,</th>\n",
       "      <th rowspan=\"5\" valign=\"top\">Spanish</th>\n",
       "      <th rowspan=\"5\" valign=\"top\">1</th>\n",
       "      <th rowspan=\"5\" valign=\"top\">1</th>\n",
       "      <th rowspan=\"5\" valign=\"top\">0</th>\n",
       "      <th rowspan=\"5\" valign=\"top\">0</th>\n",
       "      <th>0</th>\n",
       "      <td>COLOQUIO</td>\n",
       "      <td>coloquio</td>\n",
       "      <td>VERB</td>\n",
       "    </tr>\n",
       "    <tr>\n",
       "      <th>1</th>\n",
       "      <td>QUE</td>\n",
       "      <td>que</td>\n",
       "      <td>SCONJ</td>\n",
       "    </tr>\n",
       "    <tr>\n",
       "      <th>2</th>\n",
       "      <td>PASO</td>\n",
       "      <td>paso</td>\n",
       "      <td>PROPN</td>\n",
       "    </tr>\n",
       "    <tr>\n",
       "      <th>3</th>\n",
       "      <td>ENTRE</td>\n",
       "      <td>entre</td>\n",
       "      <td>ADP</td>\n",
       "    </tr>\n",
       "    <tr>\n",
       "      <th>4</th>\n",
       "      <td>CIPION</td>\n",
       "      <td>cipion</td>\n",
       "      <td>PROPN</td>\n",
       "    </tr>\n",
       "    <tr>\n",
       "      <th>...</th>\n",
       "      <th>...</th>\n",
       "      <th>...</th>\n",
       "      <th>...</th>\n",
       "      <th>...</th>\n",
       "      <th>...</th>\n",
       "      <th>...</th>\n",
       "      <td>...</td>\n",
       "      <td>...</td>\n",
       "      <td>...</td>\n",
       "    </tr>\n",
       "    <tr>\n",
       "      <th rowspan=\"5\" valign=\"top\">RINCONETE Y CORTADILLO.</th>\n",
       "      <th rowspan=\"5\" valign=\"top\">Spanish</th>\n",
       "      <th rowspan=\"5\" valign=\"top\">1</th>\n",
       "      <th rowspan=\"5\" valign=\"top\">1</th>\n",
       "      <th rowspan=\"5\" valign=\"top\">280</th>\n",
       "      <th rowspan=\"5\" valign=\"top\">11</th>\n",
       "      <th>75</th>\n",
       "      <td>á</td>\n",
       "      <td>á</td>\n",
       "      <td>CCONJ</td>\n",
       "    </tr>\n",
       "    <tr>\n",
       "      <th>76</th>\n",
       "      <td>los</td>\n",
       "      <td>los</td>\n",
       "      <td>DET</td>\n",
       "    </tr>\n",
       "    <tr>\n",
       "      <th>77</th>\n",
       "      <td>que</td>\n",
       "      <td>que</td>\n",
       "      <td>PRON</td>\n",
       "    </tr>\n",
       "    <tr>\n",
       "      <th>78</th>\n",
       "      <td>los</td>\n",
       "      <td>los</td>\n",
       "      <td>PRON</td>\n",
       "    </tr>\n",
       "    <tr>\n",
       "      <th>79</th>\n",
       "      <td>leyeren</td>\n",
       "      <td>leyeren</td>\n",
       "      <td>VERB</td>\n",
       "    </tr>\n",
       "  </tbody>\n",
       "</table>\n",
       "<p>194032 rows × 3 columns</p>\n",
       "</div>"
      ],
      "text/plain": [
       "                                                                                                token_str  \\\n",
       "title                                      language volume chap_num para_num sent_num token_num             \n",
       "COLOQUIO QUE PASO ENTRE CIPION Y BERGANZA, Spanish  1      1        0        0        0          COLOQUIO   \n",
       "                                                                                      1               QUE   \n",
       "                                                                                      2              PASO   \n",
       "                                                                                      3             ENTRE   \n",
       "                                                                                      4            CIPION   \n",
       "...                                                                                                   ...   \n",
       "RINCONETE Y CORTADILLO.                    Spanish  1      1        280      11       75                á   \n",
       "                                                                                      76              los   \n",
       "                                                                                      77              que   \n",
       "                                                                                      78              los   \n",
       "                                                                                      79          leyeren   \n",
       "\n",
       "                                                                                                 term_str  \\\n",
       "title                                      language volume chap_num para_num sent_num token_num             \n",
       "COLOQUIO QUE PASO ENTRE CIPION Y BERGANZA, Spanish  1      1        0        0        0          coloquio   \n",
       "                                                                                      1               que   \n",
       "                                                                                      2              paso   \n",
       "                                                                                      3             entre   \n",
       "                                                                                      4            cipion   \n",
       "...                                                                                                   ...   \n",
       "RINCONETE Y CORTADILLO.                    Spanish  1      1        280      11       75                á   \n",
       "                                                                                      76              los   \n",
       "                                                                                      77              que   \n",
       "                                                                                      78              los   \n",
       "                                                                                      79          leyeren   \n",
       "\n",
       "                                                                                                   pos  \n",
       "title                                      language volume chap_num para_num sent_num token_num         \n",
       "COLOQUIO QUE PASO ENTRE CIPION Y BERGANZA, Spanish  1      1        0        0        0           VERB  \n",
       "                                                                                      1          SCONJ  \n",
       "                                                                                      2          PROPN  \n",
       "                                                                                      3            ADP  \n",
       "                                                                                      4          PROPN  \n",
       "...                                                                                                ...  \n",
       "RINCONETE Y CORTADILLO.                    Spanish  1      1        280      11       75         CCONJ  \n",
       "                                                                                      76           DET  \n",
       "                                                                                      77          PRON  \n",
       "                                                                                      78          PRON  \n",
       "                                                                                      79          VERB  \n",
       "\n",
       "[194032 rows x 3 columns]"
      ]
     },
     "execution_count": 86,
     "metadata": {},
     "output_type": "execute_result"
    }
   ],
   "source": [
    "ENS_TOK.token_str = ENS_TOK.token_str.apply(lambda x: str(x))\n",
    "ENS_TOK['term_str'] = ENS_TOK.token_str.str.lower()\n",
    "ENS_TOK = ENS_TOK.merge(ENS_POS)\n",
    "ENS_TOK.set_index(OHCO[:7])"
   ]
  },
  {
   "cell_type": "code",
   "execution_count": 87,
   "id": "28636b20-56eb-4f95-bd20-08ae402ee2e7",
   "metadata": {},
   "outputs": [
    {
     "data": {
      "text/plain": [
       "array(['COLOQUIO QUE PASO ENTRE CIPION Y BERGANZA,', 'EL AMANTE LIBERAL.',\n",
       "       'EL CASAMIENTO ENGAÑOSO.', 'EL CELOSO ESTREMEÑO.',\n",
       "       'EL LICENCIADO VIDRIERA.', 'LA ESPAÑOLA INGLESA.',\n",
       "       'LA FUERZA DE LA SANGRE.', 'LA ILUSTRE FREGONA.', 'LA JITANILLA.',\n",
       "       'LA SEÑORA CORNELIA.', 'LA TIA FINGIDA.', 'LAS DOS DONCELLAS.',\n",
       "       'RINCONETE Y CORTADILLO.'], dtype=object)"
      ]
     },
     "execution_count": 87,
     "metadata": {},
     "output_type": "execute_result"
    }
   ],
   "source": [
    "ENS_TOK.title.unique()"
   ]
  },
  {
   "cell_type": "markdown",
   "id": "35aadcad-2733-4439-bc07-b73fe7d2fbc6",
   "metadata": {},
   "source": [
    "## Corpus to File"
   ]
  },
  {
   "cell_type": "code",
   "execution_count": 96,
   "id": "731e3afc-82f8-4801-b3c4-b6ab2a17ee85",
   "metadata": {},
   "outputs": [],
   "source": [
    "DQE_TOK.to_csv('DQE.csv', index=False)"
   ]
  },
  {
   "cell_type": "code",
   "execution_count": 97,
   "id": "b7541680-a435-4328-9528-d204a705b6bc",
   "metadata": {},
   "outputs": [],
   "source": [
    "DQS_TOK.to_csv('DQS.csv', index=False)"
   ]
  },
  {
   "cell_type": "code",
   "execution_count": 98,
   "id": "333ee61a-7bcd-4ee6-86d7-f870f669124a",
   "metadata": {},
   "outputs": [],
   "source": [
    "ENE_TOK.to_csv('ENE.csv', index=False)"
   ]
  },
  {
   "cell_type": "code",
   "execution_count": 99,
   "id": "820fdbfc-3711-4420-9743-07497b093bbf",
   "metadata": {},
   "outputs": [],
   "source": [
    "ENS_TOK.to_csv('ENS.csv', index=False)"
   ]
  },
  {
   "cell_type": "markdown",
   "id": "204f9469-b1d5-44bc-9560-b0301e5e146d",
   "metadata": {},
   "source": [
    "## Corpus Formatting"
   ]
  },
  {
   "cell_type": "code",
   "execution_count": 7,
   "id": "834602b2-0f8c-4e3f-b530-c620ae69484f",
   "metadata": {},
   "outputs": [],
   "source": [
    "CorDQE = pd.read_csv('DQE.csv')\n",
    "CorDQS = pd.read_csv('DQS.csv')\n",
    "CorENE = pd.read_csv('ENE.csv')\n",
    "CorENS = pd.read_csv('ENS.csv')"
   ]
  },
  {
   "cell_type": "code",
   "execution_count": 8,
   "id": "df3f978b-f639-48f0-a990-37d9a4d36a58",
   "metadata": {},
   "outputs": [],
   "source": [
    "CorDQE.drop(columns=['language', 'volume'], inplace=True)\n",
    "CorDQS.drop(columns=['language', 'volume'], inplace=True)\n",
    "CorENE.drop(columns=['language', 'volume'], inplace=True)\n",
    "CorENS.drop(columns=['language', 'volume'], inplace=True)"
   ]
  },
  {
   "cell_type": "code",
   "execution_count": 9,
   "id": "4a89fc45-302a-4f7a-aecf-f705b5ec3294",
   "metadata": {},
   "outputs": [],
   "source": [
    "CORPUS_English = pd.concat([CorDQE, CorENE])\n",
    "CORPUS_Spanish = pd.concat([CorDQS, CorENS])"
   ]
  },
  {
   "cell_type": "code",
   "execution_count": 10,
   "id": "210a5445-7cfe-4ba0-8edf-7271341d53ba",
   "metadata": {},
   "outputs": [],
   "source": [
    "CORPUS_English.term_str = CORPUS_English.term_str.replace(r'[\\W_]+', '', regex=True)\n",
    "CORPUS_Spanish.term_str = CORPUS_Spanish.term_str.replace(r'[\\W_]+', '', regex=True)"
   ]
  },
  {
   "cell_type": "code",
   "execution_count": 14,
   "id": "8803fdb0-c6fb-4859-bc9a-20c14867c441",
   "metadata": {},
   "outputs": [],
   "source": [
    "CORPUS_English = CORPUS_English.loc[~CORPUS_English.term_str.isin(stop_en)]\n",
    "CORPUS_Spanish = CORPUS_Spanish.loc[~CORPUS_Spanish.term_str.isin(stop_es)]"
   ]
  },
  {
   "cell_type": "code",
   "execution_count": 15,
   "id": "0c78ae47-8921-49b6-a986-b8e2dcb262dd",
   "metadata": {},
   "outputs": [],
   "source": [
    "CORPUS_English.to_csv('CORPUS_English.csv', index=False)\n",
    "CORPUS_Spanish.to_csv('CORPUS_Spanish.csv', index=False)"
   ]
  },
  {
   "cell_type": "code",
   "execution_count": null,
   "id": "b5207c70-2490-43e3-8b2c-01162efe3069",
   "metadata": {},
   "outputs": [],
   "source": []
  }
 ],
 "metadata": {
  "kernelspec": {
   "display_name": "Python 3",
   "language": "python",
   "name": "python3"
  },
  "language_info": {
   "codemirror_mode": {
    "name": "ipython",
    "version": 3
   },
   "file_extension": ".py",
   "mimetype": "text/x-python",
   "name": "python",
   "nbconvert_exporter": "python",
   "pygments_lexer": "ipython3",
   "version": "3.8.8"
  }
 },
 "nbformat": 4,
 "nbformat_minor": 5
}
